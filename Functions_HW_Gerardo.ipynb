{
 "cells": [
  {
   "cell_type": "code",
   "execution_count": 3,
   "metadata": {},
   "outputs": [
    {
     "data": {
      "text/plain": [
       "0.8333333333333334"
      ]
     },
     "execution_count": 3,
     "metadata": {},
     "output_type": "execute_result"
    }
   ],
   "source": [
    "#1\n",
    "\n",
    "#function to divide\n",
    "\n",
    "def divition_function (x,y):\n",
    "    z = x/y \n",
    "    return z\n",
    "\n",
    "\n",
    "divition_function (5,6)\n",
    "\n"
   ]
  },
  {
   "cell_type": "code",
   "execution_count": 4,
   "metadata": {},
   "outputs": [
    {
     "data": {
      "text/plain": [
       "35"
      ]
     },
     "execution_count": 4,
     "metadata": {},
     "output_type": "execute_result"
    }
   ],
   "source": [
    "# function to sum all elements of the list\n",
    "\n",
    "def get_sum_of_list(numbers):\n",
    "    total = 0\n",
    "    for number in numbers:\n",
    "        total += number\n",
    "    return total\n",
    "\n",
    "get_sum_of_list ([5,6,7,8,9])\n",
    "\n"
   ]
  },
  {
   "cell_type": "code",
   "execution_count": 21,
   "metadata": {},
   "outputs": [
    {
     "data": {
      "text/plain": [
       "'small list'"
      ]
     },
     "execution_count": 21,
     "metadata": {},
     "output_type": "execute_result"
    }
   ],
   "source": [
    "#2\n",
    "\n",
    "compare_list = lambda size_of_list: 'small list' if len(size_of_list)<=5 else 'big list'\n",
    "\n",
    "compare_list (['leon', 'cat', 'tiger', 'you'])\n",
    "\n",
    "\n"
   ]
  },
  {
   "cell_type": "code",
   "execution_count": 25,
   "metadata": {},
   "outputs": [
    {
     "data": {
      "text/plain": [
       "'String: hello ladies and gentlemen'"
      ]
     },
     "execution_count": 25,
     "metadata": {},
     "output_type": "execute_result"
    }
   ],
   "source": [
    "#3\n",
    "abcdario = 'abcdefghijklmnopqrstuvwxyz'\n",
    "\n",
    "\n",
    "def return_the_string (string_itself):\n",
    "    first_output = 'String: ' + string_itself\n",
    "    return first_output\n",
    "\n",
    "\n",
    "return_the_string ('hello ladies and gentlemen')"
   ]
  },
  {
   "cell_type": "code",
   "execution_count": 34,
   "metadata": {},
   "outputs": [
    {
     "data": {
      "text/plain": [
       "23"
      ]
     },
     "execution_count": 34,
     "metadata": {},
     "output_type": "execute_result"
    }
   ],
   "source": [
    "def lowercases_letters (string_itself):\n",
    "    lower_num = 0\n",
    "    for item in string_itself:\n",
    "        if item in abcdario:\n",
    "            lower_num += 1\n",
    "    return lower_num \n",
    "\n",
    "lowercases_letters ('hello ladies and gentlemen')\n",
    "\n"
   ]
  },
  {
   "cell_type": "code",
   "execution_count": 27,
   "metadata": {},
   "outputs": [
    {
     "data": {
      "text/plain": [
       "1"
      ]
     },
     "execution_count": 27,
     "metadata": {},
     "output_type": "execute_result"
    }
   ],
   "source": [
    "def uppercases_letters (string_itself):\n",
    "    upper_num = 0\n",
    "    for item in string_itself:\n",
    "        if item in abcdario.upper():\n",
    "            upper_num += 1\n",
    "    return upper_num \n",
    "\n",
    "uppercases_letters ('Hello ladies and gentlemen')"
   ]
  },
  {
   "cell_type": "code",
   "execution_count": 43,
   "metadata": {},
   "outputs": [
    {
     "ename": "SyntaxError",
     "evalue": "invalid syntax (3684869894.py, line 10)",
     "output_type": "error",
     "traceback": [
      "\u001b[0;36m  Cell \u001b[0;32mIn [43], line 10\u001b[0;36m\u001b[0m\n\u001b[0;31m    total_result = return_string (lower_num += 1)\u001b[0m\n\u001b[0m                                            ^\u001b[0m\n\u001b[0;31mSyntaxError\u001b[0m\u001b[0;31m:\u001b[0m invalid syntax\n"
     ]
    }
   ],
   "source": [
    "def cases_letters (input_string):\n",
    "    def return_string (string_itself2):\n",
    "        first_output = 'String: ' + string_itself2\n",
    "        return first_output\n",
    "\n",
    "    total_result = {}        \n",
    "    lower_num = 0\n",
    "    for item in input_string:\n",
    "        if item in abcdario:\n",
    "            total_result = return_string (lower_num += 1)\n",
    "  \n",
    "    upper_num = 0\n",
    "    for item in input_string:\n",
    "        if item in abcdario.upper():\n",
    "            upper_num += 1\n",
    "    return total_result, upper_num\n",
    "\n",
    "\n",
    "cases_letters ('Hello ladies and gentlemen, It is me')\n",
    "\n",
    "        "
   ]
  },
  {
   "cell_type": "code",
   "execution_count": 31,
   "metadata": {},
   "outputs": [
    {
     "data": {
      "text/plain": [
       "{'p': 0,\n",
       " 'l': 0,\n",
       " 'e': 1,\n",
       " 'a': 1,\n",
       " 's': 0,\n",
       " ' ': 0,\n",
       " 'h': 0,\n",
       " 'o': 1,\n",
       " 'w': 0,\n",
       " 'm': 0,\n",
       " 't': 0,\n",
       " 'i': 1,\n",
       " 'r': 0,\n",
       " 'n': 0,\n",
       " 'g': 0}"
      ]
     },
     "execution_count": 31,
     "metadata": {},
     "output_type": "execute_result"
    }
   ],
   "source": [
    "def count_vowels_list(list_of_strings): \n",
    "    def count_vowels(word):\n",
    "        vowel_num = 0\n",
    "        for item in word:\n",
    "            if item.lower() in 'aeoiu':\n",
    "                vowel_num += 1\n",
    "        return vowel_num\n",
    "    \n",
    "    vowel_counts = {}\n",
    "    for item in list_of_strings: vowel_counts[item] = count_vowels(item)\n",
    "    return vowel_counts\n",
    "\n",
    "count_vowels_list ('please show me what is wrong')"
   ]
  },
  {
   "cell_type": "code",
   "execution_count": 65,
   "metadata": {},
   "outputs": [
    {
     "data": {
      "text/plain": [
       "('Hello ladies and gentlemen, It is me', 27, 2)"
      ]
     },
     "execution_count": 65,
     "metadata": {},
     "output_type": "execute_result"
    }
   ],
   "source": [
    "def cases_letters2 (input_string):  \n",
    "    lower_num = 0\n",
    "    for item in input_string:\n",
    "        if item in abcdario:\n",
    "            lower_num += 1\n",
    "    \n",
    "    upper_num = 0\n",
    "    for item in input_string:\n",
    "        if item in abcdario.upper():\n",
    "            upper_num += 1\n",
    "    return input_string, lower_num, upper_num\n",
    "    \n",
    "\n",
    "\n",
    "\n",
    "cases_letters2 ('Hello ladies and gentlemen, It is me')"
   ]
  },
  {
   "cell_type": "code",
   "execution_count": 85,
   "metadata": {},
   "outputs": [
    {
     "data": {
      "text/plain": [
       "['700', '30', '5.223880597014926', '134']"
      ]
     },
     "execution_count": 85,
     "metadata": {},
     "output_type": "execute_result"
    }
   ],
   "source": [
    "#4\n",
    "\n",
    "def meal_vouchers(total, vouchers):\n",
    "        if total >= vouchers:\n",
    "            Cash = total%vouchers \n",
    "            Pieces = total/vouchers \n",
    "            now = [total, Cash, Pieces, vouchers]\n",
    "            return now\n",
    "\n",
    "        else:\n",
    "            Cash = total%vouchers \n",
    "            Pieces2 = total%vouchers \n",
    "            after = [total, Cash, Pieces2, vouchers]\n",
    "            return after \n",
    "\n",
    "def salvation (total, vouchers):\n",
    "    if total>=vouchers:\n",
    "        mean = meal_vouchers (total, vouchers)\n",
    "        my_list = [str(number) for number in mean]\n",
    "        return my_list\n",
    "    else:\n",
    "        mean = meal_vouchers (total, vouchers)\n",
    "        first2_output = 'Lunch cost: ' + my_list[1] + ' CZK'        \n",
    "        second2_output = 'Pay in cash: ' + '0' \n",
    "        third2_output = 'Pay in meal vouchers: 1 pcs' + my_list[4] + 'CZK each'\n",
    "        fourth_output = 'The change is: ' + my_list[3]\n",
    "        return first2_output, second2_output, third2_output, fourth_output \n",
    "    \n",
    "    \n",
    "meal_vouchers (700, 134)\n",
    "\n",
    "salvation (700, 134)\n",
    "\n",
    "# This part and else in the second function don't work      \n",
    "# first_output = 'Lunch cost: ' + my_list[1] + ' CZK'\n",
    "#        second_output = 'Pay in cash: ' + my_list[2] \n",
    "#        third_output = 'Pay in meal vouchers: ' + my_list[3] + ' pcs, ' + my_list[4] + 'CZK each'\n",
    "#       return first_output, second_output, third_output\n"
   ]
  }
 ],
 "metadata": {
  "kernelspec": {
   "display_name": "Python 3.10.7 64-bit",
   "language": "python",
   "name": "python3"
  },
  "language_info": {
   "codemirror_mode": {
    "name": "ipython",
    "version": 3
   },
   "file_extension": ".py",
   "mimetype": "text/x-python",
   "name": "python",
   "nbconvert_exporter": "python",
   "pygments_lexer": "ipython3",
   "version": "3.10.7"
  },
  "orig_nbformat": 4,
  "vscode": {
   "interpreter": {
    "hash": "aee8b7b246df8f9039afb4144a1f6fd8d2ca17a180786b69acc140d282b71a49"
   }
  }
 },
 "nbformat": 4,
 "nbformat_minor": 2
}
