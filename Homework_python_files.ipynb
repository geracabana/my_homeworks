{
 "cells": [
  {
   "cell_type": "code",
   "execution_count": 1,
   "metadata": {},
   "outputs": [
    {
     "data": {
      "text/plain": [
       "5.0"
      ]
     },
     "execution_count": 1,
     "metadata": {},
     "output_type": "execute_result"
    }
   ],
   "source": [
    "import divide_two_numbers\n",
    "\n",
    "divide_two_numbers.divide_two_numbers(25,5)"
   ]
  },
  {
   "cell_type": "code",
   "execution_count": 2,
   "metadata": {},
   "outputs": [
    {
     "ename": "ValueError",
     "evalue": "invalid literal for int() with base 10: '-f'",
     "output_type": "error",
     "traceback": [
      "\u001b[0;31m---------------------------------------------------------------------------\u001b[0m",
      "\u001b[0;31mValueError\u001b[0m                                Traceback (most recent call last)",
      "Cell \u001b[0;32mIn [2], line 6\u001b[0m\n\u001b[1;32m      3\u001b[0m \u001b[39mdef\u001b[39;00m \u001b[39msum_num\u001b[39m (a,b):\n\u001b[1;32m      4\u001b[0m     \u001b[39mreturn\u001b[39;00m a\u001b[39m+\u001b[39mb\n\u001b[0;32m----> 6\u001b[0m \u001b[39mprint\u001b[39m (sum_num(\u001b[39mint\u001b[39;49m(sys\u001b[39m.\u001b[39;49margv[\u001b[39m1\u001b[39;49m]),\u001b[39mint\u001b[39m(sys\u001b[39m.\u001b[39margv[\u001b[39m2\u001b[39m])))\n",
      "\u001b[0;31mValueError\u001b[0m: invalid literal for int() with base 10: '-f'"
     ]
    }
   ],
   "source": [
    "import sys\n",
    "\n",
    "def sum_num (a,b):\n",
    "    return a+b\n",
    "\n",
    "print (sum_num(int(sys.argv[1]),int(sys.argv[2])))"
   ]
  },
  {
   "cell_type": "code",
   "execution_count": null,
   "metadata": {},
   "outputs": [],
   "source": [
    "#Exercises 2,3,4: \n",
    "\n",
    "# 2 counting_letters.py\n",
    "# 3 counting_occurrences.py\n",
    "# 4 erasing_letteres.py"
   ]
  }
 ],
 "metadata": {
  "kernelspec": {
   "display_name": "Python 3.10.7 64-bit",
   "language": "python",
   "name": "python3"
  },
  "language_info": {
   "codemirror_mode": {
    "name": "ipython",
    "version": 3
   },
   "file_extension": ".py",
   "mimetype": "text/x-python",
   "name": "python",
   "nbconvert_exporter": "python",
   "pygments_lexer": "ipython3",
   "version": "3.10.7"
  },
  "orig_nbformat": 4,
  "vscode": {
   "interpreter": {
    "hash": "aee8b7b246df8f9039afb4144a1f6fd8d2ca17a180786b69acc140d282b71a49"
   }
  }
 },
 "nbformat": 4,
 "nbformat_minor": 2
}
