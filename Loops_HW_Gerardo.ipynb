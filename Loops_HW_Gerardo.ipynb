{
 "cells": [
  {
   "cell_type": "code",
   "execution_count": 4,
   "metadata": {},
   "outputs": [
    {
     "data": {
      "text/plain": [
       "2"
      ]
     },
     "execution_count": 4,
     "metadata": {},
     "output_type": "execute_result"
    }
   ],
   "source": [
    "37%5\n"
   ]
  },
  {
   "cell_type": "code",
   "execution_count": 5,
   "metadata": {},
   "outputs": [],
   "source": [
    "x=4"
   ]
  },
  {
   "cell_type": "code",
   "execution_count": 6,
   "metadata": {},
   "outputs": [],
   "source": [
    "#1\n",
    "\n",
    "names_list = ['Jiri', 'Jan', 'Marie', 'Petr', 'Jana', 'Josef',\n",
    "    'Pavel', 'Martin', 'Jaroslav', 'Tomas', 'Eva', 'Miroslav',\n",
    "    'Hana', 'Anna', 'Zdenek', 'Frantisek', 'Vaclav', 'Michal',\n",
    "    'Lenka', 'Katerina']"
   ]
  },
  {
   "cell_type": "code",
   "execution_count": 7,
   "metadata": {},
   "outputs": [
    {
     "ename": "NameError",
     "evalue": "name 'Your_name' is not defined",
     "output_type": "error",
     "traceback": [
      "\u001b[0;31m---------------------------------------------------------------------------\u001b[0m",
      "\u001b[0;31mNameError\u001b[0m                                 Traceback (most recent call last)",
      "Cell \u001b[0;32mIn [7], line 1\u001b[0m\n\u001b[0;32m----> 1\u001b[0m \u001b[39minput\u001b[39m (Your_name)\n\u001b[1;32m      3\u001b[0m \u001b[39mif\u001b[39;00m Your_name \u001b[39min\u001b[39;00m names_list:\n\u001b[1;32m      4\u001b[0m     \u001b[39mprint\u001b[39m (\u001b[39m'\u001b[39m\u001b[39mreply\u001b[39m\u001b[39m'\u001b[39m)\n",
      "\u001b[0;31mNameError\u001b[0m: name 'Your_name' is not defined"
     ]
    }
   ],
   "source": [
    "input (Your_name)\n",
    "\n",
    "if Your_name in names_list:\n",
    "    print ('reply')\n",
    "else:\n",
    "    print ('another reply')\n",
    "\n"
   ]
  },
  {
   "cell_type": "code",
   "execution_count": null,
   "metadata": {},
   "outputs": [],
   "source": [
    "fruits = ['apples', 'pears', 'apricots', 'peaches', 'oranges']\n",
    "\n",
    "for i, fruit in enumerate (fruits):\n",
    "    print('I like ' + fruit)\n",
    "    print('I like ' + fruits[i])\n",
    "\n",
    "for i, fruit in enumerate (fruits):\n",
    "    print('I like ' + fruits)"
   ]
  },
  {
   "cell_type": "code",
   "execution_count": null,
   "metadata": {},
   "outputs": [
    {
     "name": "stdout",
     "output_type": "stream",
     "text": [
      "0 apples\n",
      "1 pears\n",
      "2 apricots\n",
      "3 peaches\n",
      "4 oranges\n"
     ]
    }
   ],
   "source": [
    "for i, fruit in enumerate (fruits):\n",
    "    print(i, fruit)\n",
    "    \n",
    "\n",
    "    "
   ]
  },
  {
   "cell_type": "code",
   "execution_count": null,
   "metadata": {},
   "outputs": [
    {
     "name": "stdout",
     "output_type": "stream",
     "text": [
      "G\n",
      "e\n",
      "r\n",
      "a\n",
      "r\n",
      "d\n",
      "o\n"
     ]
    }
   ],
   "source": [
    "name = input(\"What is your name? \")\n",
    "\n",
    "for letter in name:\n",
    "  print(letter)"
   ]
  },
  {
   "cell_type": "code",
   "execution_count": null,
   "metadata": {},
   "outputs": [
    {
     "data": {
      "text/plain": [
       "range(0, 3)"
      ]
     },
     "execution_count": 60,
     "metadata": {},
     "output_type": "execute_result"
    }
   ],
   "source": [
    "for i in range(len(a))"
   ]
  },
  {
   "cell_type": "code",
   "execution_count": null,
   "metadata": {},
   "outputs": [
    {
     "name": "stdout",
     "output_type": "stream",
     "text": [
      "0\n",
      "1\n",
      "2\n",
      "0\n",
      "1\n",
      "2\n",
      "0\n",
      "1\n",
      "2\n",
      "0\n",
      "1\n",
      "2\n",
      "1\n",
      "2\n",
      "3\n",
      "4\n",
      "5\n",
      "6\n",
      "7\n",
      "8\n",
      "9\n",
      "[[1, 4, 7], [2, 5, 8], [3, 6, 9]]\n"
     ]
    }
   ],
   "source": [
    "#List comprehension\n",
    "\n",
    "a = [[1,2,3],\n",
    "         [4,5,6],\n",
    "         [7,8,9]]\n",
    "\n",
    "b = []\n",
    "\n",
    "for item in range(len(a)):\n",
    "    print(item)\n",
    "\n",
    "for i in range(len(a)):\n",
    "    b_sublist = []\n",
    "    for j in range(len(a[i])):\n",
    "        print(j)\n",
    "\n",
    "for i in range(len(a)):\n",
    "    b_sublist = []\n",
    "    for j in range(len(a[i])):\n",
    "        print(a[i][j])\n",
    "\n",
    "\n",
    "\n",
    "for i in range(len(a)):\n",
    "    b_sublist = []\n",
    "    for j in range(len(a[i])):\n",
    "        b_sublist.append(a[j][i])\n",
    "    b.append(b_sublist)\n",
    "\n",
    "print(b)  \n",
    "\n"
   ]
  },
  {
   "cell_type": "code",
   "execution_count": null,
   "metadata": {},
   "outputs": [
    {
     "name": "stdout",
     "output_type": "stream",
     "text": [
      "[[1, 4, 7], [2, 5, 8], [3, 6, 9], [1, 4, 7], [2, 5, 8], [3, 6, 9]]\n"
     ]
    }
   ],
   "source": [
    "for i in range(len(a)):\n",
    "    b_sublist = []\n",
    "    for j in range(len(a[i])):\n",
    "        b_sublist.append(a[j][i])\n",
    "    b.append(b_sublist)\n",
    "\n",
    "print(b)  "
   ]
  },
  {
   "cell_type": "code",
   "execution_count": null,
   "metadata": {},
   "outputs": [
    {
     "name": "stdout",
     "output_type": "stream",
     "text": [
      "['cereal', 'apple', 'milk', 'water']\n"
     ]
    }
   ],
   "source": [
    "#4\n",
    "\n",
    "shoping_list = ['cereal', 'apple', 'milk']\n",
    "\n",
    "put_item = input (str)\n",
    "\n",
    "for k in shoping_list:\n",
    "    if put_item in shoping_list:\n",
    "        print(put_item)\n",
    "        break\n",
    "    else:\n",
    "        shoping_list.append(put_item)\n",
    "        print(shoping_list)\n",
    "        break\n",
    "    \n"
   ]
  },
  {
   "cell_type": "code",
   "execution_count": null,
   "metadata": {},
   "outputs": [],
   "source": [
    "n = 2\n",
    "while n > 0:\n",
    "    print (n)\n",
    "    \n",
    "print('COOL')"
   ]
  },
  {
   "cell_type": "code",
   "execution_count": 98,
   "metadata": {},
   "outputs": [
    {
     "data": {
      "text/plain": [
       "3125"
      ]
     },
     "execution_count": 98,
     "metadata": {},
     "output_type": "execute_result"
    }
   ],
   "source": [
    "#5 list comprehension\n",
    "5**5\n"
   ]
  },
  {
   "cell_type": "code",
   "execution_count": 99,
   "metadata": {},
   "outputs": [],
   "source": [
    "list_of_numbers = list(range(3126))"
   ]
  },
  {
   "cell_type": "code",
   "execution_count": 106,
   "metadata": {},
   "outputs": [
    {
     "ename": "SyntaxError",
     "evalue": "invalid syntax (1740431538.py, line 1)",
     "output_type": "error",
     "traceback": [
      "\u001b[0;36m  Cell \u001b[0;32mIn [106], line 1\u001b[0;36m\u001b[0m\n\u001b[0;31m    power_of_five = [x for x in list_of_numbers while 5**n == x]\u001b[0m\n\u001b[0m                                                ^\u001b[0m\n\u001b[0;31mSyntaxError\u001b[0m\u001b[0;31m:\u001b[0m invalid syntax\n"
     ]
    }
   ],
   "source": [
    "power_of_five = [x for x in list_of_numbers if 5**n == x]"
   ]
  },
  {
   "cell_type": "code",
   "execution_count": 102,
   "metadata": {},
   "outputs": [
    {
     "data": {
      "text/plain": [
       "[25]"
      ]
     },
     "execution_count": 102,
     "metadata": {},
     "output_type": "execute_result"
    }
   ],
   "source": [
    "power_of_five "
   ]
  },
  {
   "cell_type": "code",
   "execution_count": 110,
   "metadata": {},
   "outputs": [
    {
     "name": "stdout",
     "output_type": "stream",
     "text": [
      "1\n",
      "4\n",
      "27\n",
      "256\n",
      "3125\n"
     ]
    }
   ],
   "source": [
    "numbers = [1, 2, 3, 4, 5]\n",
    "new_numbers = []\n",
    "\n",
    "for g in numbers:\n",
    "    print(g**g)\n",
    "\n",
    " \n",
    "\n",
    "\n"
   ]
  },
  {
   "cell_type": "code",
   "execution_count": 117,
   "metadata": {},
   "outputs": [
    {
     "ename": "SyntaxError",
     "evalue": "invalid syntax (3184698964.py, line 6)",
     "output_type": "error",
     "traceback": [
      "\u001b[0;36m  Cell \u001b[0;32mIn [117], line 6\u001b[0;36m\u001b[0m\n\u001b[0;31m    squared_and_favorite = [x for x in numbers list(x*x)]\u001b[0m\n\u001b[0m                                               ^\u001b[0m\n\u001b[0;31mSyntaxError\u001b[0m\u001b[0;31m:\u001b[0m invalid syntax\n"
     ]
    }
   ],
   "source": [
    "\n",
    "numbers = [1, 2, 3, 4, 5]\n",
    "\n",
    "squared_and_favorite = [x for x in numbers list(x*x)] \n",
    "\n",
    "\n",
    "print(numbers)\n",
    "\n",
    "print(squared_and_favorite)"
   ]
  },
  {
   "cell_type": "code",
   "execution_count": 122,
   "metadata": {},
   "outputs": [
    {
     "name": "stdout",
     "output_type": "stream",
     "text": [
      "[1, 4, 9, 16, 25]\n",
      "['1', '4', '9', '16', '25']\n",
      "['1 is my favorite number!', '4 is my favorite number!', '9 is my favorite number!', '16 is my favorite number!', '25 is my favorite number!']\n"
     ]
    }
   ],
   "source": [
    "numbers = [1, 2, 3, 4, 5]\n",
    "\n",
    "squared = [num*num for num in numbers]\n",
    "\n",
    "print(squared)\n",
    "\n",
    "square_plus_favorite = [str(x) for x in squared]\n",
    "\n",
    "print(square_plus_favorite)\n",
    "\n",
    "second_list = [d + ' is my favorite number!' for d in square_plus_favorite]\n",
    "\n",
    "print(second_list)"
   ]
  },
  {
   "cell_type": "code",
   "execution_count": 127,
   "metadata": {},
   "outputs": [
    {
     "name": "stdout",
     "output_type": "stream",
     "text": [
      "[0, 1, 2]\n"
     ]
    }
   ],
   "source": [
    "#6\n",
    "\n",
    "exercise_6 = input(str)\n",
    "\n",
    "ocurrences_of_A = [a for a, value in enumerate(exercise_6) if value == 'A']\n",
    "\n",
    "print(ocurrences_of_A)\n"
   ]
  },
  {
   "cell_type": "code",
   "execution_count": 136,
   "metadata": {},
   "outputs": [
    {
     "name": "stdout",
     "output_type": "stream",
     "text": [
      "{'John': 30, 'Emily': 105, 'Matthew': 150, 'Katy': 120, 'Peter': 75}\n"
     ]
    }
   ],
   "source": [
    "#7\n",
    "\n",
    "scores = {'John' : 10, 'Emily' : 35, 'Matthew' : 50, 'Katy' : 40, 'Peter' : 25}\n",
    "\n",
    "scores_triple = {keys:values*3 for keys, values in scores.items()}\n",
    "\n",
    "print(scores_triple)\n"
   ]
  }
 ],
 "metadata": {
  "kernelspec": {
   "display_name": "Python 3.10.7 64-bit",
   "language": "python",
   "name": "python3"
  },
  "language_info": {
   "codemirror_mode": {
    "name": "ipython",
    "version": 3
   },
   "file_extension": ".py",
   "mimetype": "text/x-python",
   "name": "python",
   "nbconvert_exporter": "python",
   "pygments_lexer": "ipython3",
   "version": "3.10.7"
  },
  "orig_nbformat": 4,
  "vscode": {
   "interpreter": {
    "hash": "aee8b7b246df8f9039afb4144a1f6fd8d2ca17a180786b69acc140d282b71a49"
   }
  }
 },
 "nbformat": 4,
 "nbformat_minor": 2
}
