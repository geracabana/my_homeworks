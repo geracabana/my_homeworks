{
 "cells": [
  {
   "cell_type": "code",
   "execution_count": null,
   "metadata": {},
   "outputs": [],
   "source": [
    "import os\n",
    "import shutil\n",
    "import datetime\n",
    "import argparse\n",
    "import PIL.Image \n",
    "\n",
    "parser = argparse.ArgumentParser()   \n",
    "parser.add_argument('input_dir_photo', help='After the name of the program write the path down for the directory with the pictures')\n",
    "parser.add_argument('output_dir_photo', help='After the directory with the pictures write the path down for the destination directory')\n",
    "parser.add_argument('-d', '--delete', help='With this option you can delete the original directory wiht pictures')\n",
    "\n",
    "args = parser.parse_args()\n",
    "directin = args.input_dir_photo\n",
    "directout = args.output_dir_photo \n",
    "\n",
    "def photosort(directin, directout):\n",
    "    files_by_year = {}\n",
    "    \n",
    "    for filename in os.listdir(directin):\n",
    "        if filename.endswith(\".jpeg\"):\n",
    "            try:\n",
    "                img = PIL.Image.open(\"img.jpg\")\n",
    "                exif_data = img._getexif()\n",
    "                taken_date = datetime.datetime.strptime(exif_data['DateTimeOriginal'], 'y')\n",
    "                year = taken_date.year\n",
    "            except (AttributeError, KeyError):\n",
    "\n",
    "                year = \"unknown\"\n",
    "\n",
    "            if year not in files_by_year:\n",
    "                files_by_year[year] = []\n",
    "         \n",
    "            files_by_year[year].append(filename)\n",
    "    \n",
    "  \n",
    "    os.makedirs(directout, exist_ok=True)\n",
    "    \n",
    "  \n",
    "    for year, filenames in files_by_year.items():\n",
    "  \n",
    "        year_dir = f\"{directout}/{year}\"\n",
    "        os.makedirs(year_dir, exist_ok=True)\n",
    " \n",
    "        sequence = 1\n",
    "        for filename in filenames:\n",
    "          \n",
    "            try:\n",
    "                img = PIL.Image.open('img.jpg')\n",
    "                exif_data = img._getexif()\n",
    "                taken_date = datetime.datetime.strptime(exif_data['DateTimeOriginal'], 'y')\n",
    "                new_filename = f\"{year}-{taken_date.month}-{taken_date.day}-{sequence}.jpg\"\n",
    "            except (AttributeError, KeyError):\n",
    "                new_filename = f\"{year}-{sequence}.jpg\"\n",
    "            shutil.move(f\"{directin}/{filename}\", f\"{year_dir}/{new_filename}\")\n",
    "            sequence += 1\n",
    "            \n",
    "remove_original = args.delete     \n",
    "\n",
    "if remove_original:\n",
    "    response = input(\"Remove original photos? [y/N] \")\n",
    "    if response.lower() == \"y\":\n",
    "        photosort(directin, directout)\n",
    "        os.rmdir(directin)\n",
    "    elif response.upper() == \"N\":\n",
    "        photosort(directin, directout)\n",
    "    else:\n",
    "        print('Okay, rewrite the input and output directories')"
   ]
  }
 ],
 "metadata": {
  "kernelspec": {
   "display_name": "Python 3.10.7 64-bit",
   "language": "python",
   "name": "python3"
  },
  "language_info": {
   "name": "python",
   "version": "3.10.7"
  },
  "orig_nbformat": 4,
  "vscode": {
   "interpreter": {
    "hash": "aee8b7b246df8f9039afb4144a1f6fd8d2ca17a180786b69acc140d282b71a49"
   }
  }
 },
 "nbformat": 4,
 "nbformat_minor": 2
}
