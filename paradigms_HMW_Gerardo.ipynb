{
 "cells": [
  {
   "cell_type": "code",
   "execution_count": 1,
   "metadata": {},
   "outputs": [
    {
     "name": "stdout",
     "output_type": "stream",
     "text": [
      "Tiger\n"
     ]
    }
   ],
   "source": [
    "#Homework for paradigms (class)\n",
    "\n",
    "class animal:\n",
    "    def __init__(self, aname):\n",
    "        self.aname = aname\n",
    "\n",
    "    def printname(self):\n",
    "        print(self.aname)\n",
    "\n",
    "\n",
    "animal('Tiger').printname()"
   ]
  },
  {
   "cell_type": "code",
   "execution_count": 6,
   "metadata": {},
   "outputs": [
    {
     "name": "stdout",
     "output_type": "stream",
     "text": [
      "this Tiger likes to make the Warr sound\n"
     ]
    }
   ],
   "source": [
    "class cat:\n",
    "    def __init__(self,aname,purr_sound):\n",
    "        animal.__init__(self,aname)\n",
    "        self.sound = purr_sound\n",
    "\n",
    "    def purr(self):\n",
    "        print(f'this {self.aname} likes to make the {self.sound} sound')\n",
    "\n",
    "cat('Tiger','Warr').purr()"
   ]
  }
 ],
 "metadata": {
  "kernelspec": {
   "display_name": "Python 3.10.7 64-bit",
   "language": "python",
   "name": "python3"
  },
  "language_info": {
   "codemirror_mode": {
    "name": "ipython",
    "version": 3
   },
   "file_extension": ".py",
   "mimetype": "text/x-python",
   "name": "python",
   "nbconvert_exporter": "python",
   "pygments_lexer": "ipython3",
   "version": "3.10.7"
  },
  "orig_nbformat": 4,
  "vscode": {
   "interpreter": {
    "hash": "aee8b7b246df8f9039afb4144a1f6fd8d2ca17a180786b69acc140d282b71a49"
   }
  }
 },
 "nbformat": 4,
 "nbformat_minor": 2
}
